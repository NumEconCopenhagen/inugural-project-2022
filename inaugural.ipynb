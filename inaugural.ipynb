{
 "cells": [
  {
   "cell_type": "code",
   "execution_count": 3,
   "id": "b7a8853b-2b59-4e04-9869-2618a9a9ddac",
   "metadata": {
    "tags": []
   },
   "outputs": [],
   "source": [
    "### Inaugural project\n",
    "\n",
    "#Syed Tayyeb Hussain Shah and Shainur Akter\n",
    "# Question 1\n",
    "# Starting with making the neccesary imports\n",
    "\n",
    "import numpy as np\n",
    "from scipy import optimize\n",
    "import matplotlib.pyplot as plt\n"
   ]
  },
  {
   "cell_type": "code",
   "execution_count": 2,
   "id": "d0876096-29fe-463a-924a-d73c90d35955",
   "metadata": {},
   "outputs": [],
   "source": [
    "# "
   ]
  },
  {
   "cell_type": "code",
   "execution_count": 4,
   "id": "14073e9d-10f0-4a83-a22c-a6ad7f8a78e6",
   "metadata": {
    "slideshow": {
     "slide_type": "fragment"
    }
   },
   "outputs": [
    {
     "data": {
      "text/plain": [
       "[<matplotlib.lines.Line2D at 0x7ffdc048ab80>]"
      ]
     },
     "execution_count": 4,
     "metadata": {},
     "output_type": "execute_result"
    },
    {
     "data": {
      "image/png": "[encoded data removed]",
      "text/plain": [
       "<Figure size 432x288 with 1 Axes>"
      ]
     },
     "metadata": {
      "needs_background": "light"
     },
     "output_type": "display_data"
    }
   ],
   "source": [
    "# Question 1 \n",
    "#i) contructing a function that takes (x,y,p) as arguments and returns utility\n",
    "\n",
    "import numpy as np\n",
    "from scipy import optimize\n",
    "import matplotlib.pyplot as plt \n",
    "\n",
    "def utility(z, theta):\n",
    "    \"\"\" Calculates agents utility\"\"\"\n",
    "    return (z**(1+theta))/(1+theta)\n",
    "\n",
    "def premium(p, q):\n",
    "    \"\"\" Calculates the agents premium \"\"\"\n",
    "    return p*q\n",
    "\n",
    "def insurance_u(p, y, x, q):\n",
    "    \"\"\" Returns utillty with insurance \"\"\"\n",
    "    return p*utility(y-x+q-premium(p,q), theta)+(1-p)*utility(y-premium(p,q),theta)\n",
    "\n",
    "y = 1\n",
    "p = 0.2\n",
    "theta = -2\n",
    "\n",
    "\n",
    "## Question 1 ii) we have to make the grid, here we use the following functions for this:\n",
    "xs = np.linspace(0.01,0.9,100)\n",
    "q_star = np.zeros(100)\n",
    "\n",
    "## Question 1 iii) we are trying to solve the optimum problem here. We are defining the opt function\n",
    "def opt(p,y,x):\n",
    "    \"\"\" Returns optimal q in the range (0,x) \"\"\"\n",
    "    obj = lambda q: -insurance_u(p,y,x,q)\n",
    "    res = optimize.minimize_scalar(obj,bounds=(0,x), method='bounded')\n",
    "    return res.x\n",
    "\n",
    "for i in range(100):\n",
    "    q_star[i] = opt(p,y,xs[i])\n",
    "\n",
    "## Question 1 iv) plotting the optimal q's for xs:\n",
    "plt.plot(xs,q_star)\n",
    "## We can see from the graph that the optimal coverage is equal to the loss of agent, which gives\n",
    "# intuitively meaning\n"
   ]
  },
  {
   "cell_type": "code",
   "execution_count": 5,
   "id": "eb10a496-9e5d-46a6-90eb-d58c8a866104",
   "metadata": {
    "slideshow": {
     "slide_type": "fragment"
    }
   },
   "outputs": [],
   "source": [
    "# Questio 2 i)\n",
    "# Here we have to find the set of acceptable contracts from the agents point of view. \n",
    "# we want to see whether the utility is as least at good an insured agent. we are using x=0.6\n",
    "\n",
    "# First we define the function for not having insurance:\n",
    "\n",
    "\n",
    "\n",
    "# Defining utiliy from insurance with x=0.6\n",
    "x= 0.6\n",
    "\n",
    "\n",
    "def v_pi(pi, q, x, y, p):\n",
    "    \"\"\" Returns utility with insurance \"\"\"\n",
    "    return p*utility(y-x+q-pi, theta)+(1-p)*utility(y-pi, theta)\n",
    "\n",
    "V0 = v_pi(0, 0, x, y, p)\n",
    "# Section ii)\n",
    "def opt_pi(q, x, y, p):\n",
    "    \"\"\" Returns the optimal contracts for the agent \"\"\"\n",
    "    def obj(pi):\n",
    "        return v_pi(pi, q, x, y, p)-V0\n",
    "    res = optimize.root(obj, 0.01)\n",
    "    return res.x\n",
    "\n",
    "\"\"\" Making a grid for x and q \"\"\"\n",
    "xs2 = np.linspace(0.01,0.6,100)\n",
    "q_star2 = np.zeros(100)\n",
    "\n",
    "for i, q in enumerate(xs2):\n",
    "    q_star2[i]=opt_pi(q, x, y, p)\n"
   ]
  },
  {
   "cell_type": "code",
   "execution_count": 6,
   "id": "a8a84106-5348-4162-9892-04395922b4cc",
   "metadata": {},
   "outputs": [
    {
     "data": {
      "text/plain": [
       "<function matplotlib.pyplot.show(close=None, block=None)>"
      ]
     },
     "execution_count": 6,
     "metadata": {},
     "output_type": "execute_result"
    },
    {
     "data": {
      "image/png": "[encoded data removed]",
      "text/plain": [
       "<Figure size 432x288 with 1 Axes>"
      ]
     },
     "metadata": {
      "needs_background": "light"
     },
     "output_type": "display_data"
    }
   ],
   "source": [
    "# plotting xs2 and q_star2\n",
    "plt.plot(xs2, q_star2)\n",
    "plt.set_xlabel = ('Agents loss of asset')\n",
    "plt.set_ylabel = ('Insurance cover amount')\n",
    "plt.show\n",
    "    \n",
    "# This shows the acceptable premiums "
   ]
  },
  {
   "cell_type": "code",
   "execution_count": null,
   "id": "b741a66a-a621-4cf4-a71e-cbaf9fe5c166",
   "metadata": {},
   "outputs": [],
   "source": [
    "\n",
    "\n"
   ]
  },
  {
   "cell_type": "code",
   "execution_count": 7,
   "id": "4ef8d8df-33a4-48a9-af3c-388e180d63e0",
   "metadata": {
    "tags": []
   },
   "outputs": [
    {
     "name": "stdout",
     "output_type": "stream",
     "text": [
      "-1.2859565012168455\n",
      "-1.2980519361632206\n"
     ]
    }
   ],
   "source": [
    "# Question 3\n",
    "\n",
    "# i) creating a function that computes V(Gamma, pi) by montecarlo integration using 10.000 draws. \n",
    "\n",
    "# First list variables and creating functions\n",
    "\n",
    "\n",
    "a = 2\n",
    "b = 7\n",
    "N = 10000\n",
    "\n",
    "def agent_value(y, gamma, x, pi):\n",
    "    \"\"\" Returns the agents utility from a beta distribution \"\"\"\n",
    "    return utility(y-(1-gamma)*x-pi, theta)\n",
    "\n",
    "def monte_carlo(pi, gamma, y, p):\n",
    "    \"\"\" returns a montecarlo integration with 10.000 draws \"\"\"\n",
    "    yy = np.random.beta(a, b, size = N)\n",
    "    for i, x in enumerate(yy):\n",
    "        yy[i] = agent_value(y, gamma, x, pi)\n",
    "    mean = np.mean(yy)\n",
    "    return mean\n",
    "\n",
    "## section ii) printing for (gamma, pi)= (0.9,0.2) and \n",
    "    \n",
    "print(monte_carlo(0.2, 0.9, y, p))\n",
    "print(monte_carlo(0.1, 0.45, y, p))\n",
    "## We see that the first is the most prefferable to the agent. \n"
   ]
  },
  {
   "cell_type": "code",
   "execution_count": 9,
   "id": "c5e9e5d7-14d1-462d-9de9-acbc43ed6266",
   "metadata": {},
   "outputs": [
    {
     "name": "stdout",
     "output_type": "stream",
     "text": [
      "0.21957491059784398\n"
     ]
    }
   ],
   "source": [
    "# Question 4 i) \n",
    "\n",
    "# In this section we have to optimize pi from the company's point of view, that is maximizing pi!\n",
    "\n",
    "# A costumer demands coverage ratio gamma = 0.95, how can we optimize pi?\n",
    "\n",
    "# We optimize pi doing so:\n",
    "pi_star = 0.5\n",
    "\n",
    "def opt_mc(pi_star, gamma, y, p, v0):\n",
    "    \"\"\" Returns optimal premium for a given coverage ratio \"\"\" \n",
    "    \n",
    "    def obj_mc(pi_star):\n",
    "        return monte_carlo(pi_star, gamma, y, p)-V0\n",
    "    res = optimize.root(obj_mc, 0.1, method = \"broyden1\")\n",
    "    \n",
    "    return res.x\n",
    "\n",
    "print(opt_mc(pi_star, 0.95, y, p, V0))\n",
    "        \n",
    "    \n",
    "# The optimal premium is given below\n",
    "\n",
    "\n",
    "## During this projoct we had problems with plotting minimum premiums in question 2 and also \n",
    "# putting labels togehter since the plt coding was not working with us. \n",
    "\n"
   ]
  },
  {
   "cell_type": "code",
   "execution_count": null,
   "id": "b0bba216-9a3f-45b9-8199-82989bc27427",
   "metadata": {},
   "outputs": [],
   "source": []
  }
 ],
 "metadata": {
  "kernelspec": {
   "display_name": "Python 3 (ipykernel)",
   "language": "python",
   "name": "python3"
  },
  "language_info": {
   "codemirror_mode": {
    "name": "ipython",
    "version": 3
   },
   "file_extension": ".py",
   "mimetype": "text/x-python",
   "name": "python",
   "nbconvert_exporter": "python",
   "pygments_lexer": "ipython3",
   "version": "3.9.7"
  }
 },
 "nbformat": 4,
 "nbformat_minor": 5
}
